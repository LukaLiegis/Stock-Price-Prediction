{
 "cells": [
  {
   "cell_type": "code",
   "execution_count": 19,
   "metadata": {},
   "outputs": [],
   "source": [
    "import numpy as np\n",
    "import pandas as pd\n",
    "import pandas_ta as ta\n",
    "import datetime\n",
    "import math\n",
    "import pywt\n",
    "from scipy.ndimage import gaussian_filter\n",
    "import matplotlib.pyplot as plt"
   ]
  },
  {
   "cell_type": "code",
   "execution_count": 6,
   "metadata": {},
   "outputs": [],
   "source": [
    "#Load historical ptions data\n",
    "data = pd.read_csv(\"/Users/luka/Projects/CitadelProject/Data/S&P500.csv\")\n"
   ]
  },
  {
   "cell_type": "code",
   "execution_count": 7,
   "metadata": {},
   "outputs": [],
   "source": [
    "def get_technical_indicators(dataset):\n",
    "    # Create 7 and 21 days Moving Average\n",
    "    dataset['ma7'] = dataset['Close'].rolling(window=7).mean()\n",
    "    dataset['ma21'] = dataset['Close'].rolling(window=21).mean()\n",
    "    dataset['ma100'] = dataset['Close'].rolling(window=100).mean()\n",
    "    dataset['ma150'] = dataset['Close'].rolling(window=150).mean()\n",
    "    dataset['ma200'] = dataset['Close'].rolling(window=200).mean()\n",
    "    \n",
    "    # Create Exponential moving average\n",
    "    dataset[\"ema30\"] = dataset.ta.ema(30)\n",
    "    dataset['ema200'] = dataset.ta.ema(200)\n",
    "\n",
    "    #Logarithmic Return\n",
    "    dataset[\"Log_Data\"] = (np.log(dataset[\"Close\"]))\n",
    "\n",
    "    #\n",
    "    dataset[\"ebsw\"] = dataset.ta.ebsw()\n",
    "    \n",
    "    #Other Pandas-TA Indicators\n",
    "    dataset[\"RSI\"] = dataset.ta.rsi()\n",
    "    dataset[\"RSX\"] = dataset.ta.rsx()\n",
    "    dataset[\"uo\"] = dataset.ta.uo()\n",
    "    \n",
    "    #Pandas-TA Statistics\n",
    "    dataset[\"entropy\"] = dataset.ta.entropy()\n",
    "    dataset[\"kurtosis\"] = dataset.ta.kurtosis()\n",
    "    dataset[\"mad\"] = dataset.ta.mad()\n",
    "    dataset[\"median\"] = dataset.ta.median()\n",
    "    dataset[\"quantile\"] = dataset.ta.quantile()\n",
    "    dataset[\"skew\"] = dataset.ta.skew()\n",
    "    dataset[\"stdev\"] = dataset.ta.stdev()\n",
    "    dataset[\"variance\"] = dataset.ta.variance()\n",
    "    dataset[\"zscore\"] = dataset.ta.zscore()\n",
    "\n",
    "    #Pandas-TA Trend\n",
    "    dataset[\"chop\"] = dataset.ta.chop()\n",
    "    dataset[\"decay\"] = dataset.ta.decay()\n",
    "    dataset[\"decreasing\"] = dataset.ta.decreasing()\n",
    "    dataset[\"dpo\"] = dataset.ta.dpo()\n",
    "    dataset[\"increasing\"] = dataset.ta.increasing()\n",
    "    dataset[\"qstick\"] = dataset.ta.qstick()\n",
    "\n",
    "    #Pandas-TA Volatility\n",
    "    dataset[\"massi\"] = dataset.ta.massi()\n",
    "\n",
    "    #Pandas-TA Volume\n",
    "    dataset[\"ad\"] = dataset.ta.ad()\n",
    "\n",
    "    #Gausian Filter\n",
    "    dataset[\"GF\"] = gaussian_filter((dataset[\"Close\"]), sigma=1)\n",
    "\n",
    "    \n",
    "    return dataset"
   ]
  },
  {
   "cell_type": "code",
   "execution_count": 8,
   "metadata": {},
   "outputs": [],
   "source": [
    "dataset_TI = get_technical_indicators(data)\n",
    "dataset_TI = dataset_TI.dropna()"
   ]
  },
  {
   "cell_type": "code",
   "execution_count": 9,
   "metadata": {},
   "outputs": [
    {
     "data": {
      "text/html": [
       "<div>\n",
       "<style scoped>\n",
       "    .dataframe tbody tr th:only-of-type {\n",
       "        vertical-align: middle;\n",
       "    }\n",
       "\n",
       "    .dataframe tbody tr th {\n",
       "        vertical-align: top;\n",
       "    }\n",
       "\n",
       "    .dataframe thead th {\n",
       "        text-align: right;\n",
       "    }\n",
       "</style>\n",
       "<table border=\"1\" class=\"dataframe\">\n",
       "  <thead>\n",
       "    <tr style=\"text-align: right;\">\n",
       "      <th></th>\n",
       "      <th>Date</th>\n",
       "      <th>Open</th>\n",
       "      <th>High</th>\n",
       "      <th>Low</th>\n",
       "      <th>Close</th>\n",
       "      <th>Adj Close</th>\n",
       "      <th>Volume</th>\n",
       "      <th>ma7</th>\n",
       "      <th>ma21</th>\n",
       "      <th>ma100</th>\n",
       "      <th>...</th>\n",
       "      <th>zscore</th>\n",
       "      <th>chop</th>\n",
       "      <th>decay</th>\n",
       "      <th>decreasing</th>\n",
       "      <th>dpo</th>\n",
       "      <th>increasing</th>\n",
       "      <th>qstick</th>\n",
       "      <th>massi</th>\n",
       "      <th>ad</th>\n",
       "      <th>GF</th>\n",
       "    </tr>\n",
       "  </thead>\n",
       "  <tbody>\n",
       "    <tr>\n",
       "      <th>199</th>\n",
       "      <td>1928-10-16</td>\n",
       "      <td>21.719999</td>\n",
       "      <td>21.719999</td>\n",
       "      <td>21.719999</td>\n",
       "      <td>21.719999</td>\n",
       "      <td>21.719999</td>\n",
       "      <td>0</td>\n",
       "      <td>21.400000</td>\n",
       "      <td>21.316667</td>\n",
       "      <td>19.925300</td>\n",
       "      <td>...</td>\n",
       "      <td>2.529170</td>\n",
       "      <td>34.345910</td>\n",
       "      <td>21.719999</td>\n",
       "      <td>0</td>\n",
       "      <td>0.090499</td>\n",
       "      <td>1</td>\n",
       "      <td>2.220446e-16</td>\n",
       "      <td>25.000000</td>\n",
       "      <td>0.000000e+00</td>\n",
       "      <td>21.714770</td>\n",
       "    </tr>\n",
       "    <tr>\n",
       "      <th>200</th>\n",
       "      <td>1928-10-17</td>\n",
       "      <td>21.790001</td>\n",
       "      <td>21.790001</td>\n",
       "      <td>21.790001</td>\n",
       "      <td>21.790001</td>\n",
       "      <td>21.790001</td>\n",
       "      <td>0</td>\n",
       "      <td>21.481429</td>\n",
       "      <td>21.338571</td>\n",
       "      <td>19.944500</td>\n",
       "      <td>...</td>\n",
       "      <td>2.514166</td>\n",
       "      <td>31.705968</td>\n",
       "      <td>21.790001</td>\n",
       "      <td>0</td>\n",
       "      <td>0.120501</td>\n",
       "      <td>1</td>\n",
       "      <td>2.220446e-16</td>\n",
       "      <td>25.000000</td>\n",
       "      <td>0.000000e+00</td>\n",
       "      <td>21.785599</td>\n",
       "    </tr>\n",
       "    <tr>\n",
       "      <th>201</th>\n",
       "      <td>1928-10-18</td>\n",
       "      <td>21.840000</td>\n",
       "      <td>21.840000</td>\n",
       "      <td>21.840000</td>\n",
       "      <td>21.840000</td>\n",
       "      <td>21.840000</td>\n",
       "      <td>0</td>\n",
       "      <td>21.585714</td>\n",
       "      <td>21.370000</td>\n",
       "      <td>19.963900</td>\n",
       "      <td>...</td>\n",
       "      <td>2.386458</td>\n",
       "      <td>23.296813</td>\n",
       "      <td>21.840000</td>\n",
       "      <td>0</td>\n",
       "      <td>0.136000</td>\n",
       "      <td>1</td>\n",
       "      <td>2.220446e-16</td>\n",
       "      <td>25.000000</td>\n",
       "      <td>0.000000e+00</td>\n",
       "      <td>21.848461</td>\n",
       "    </tr>\n",
       "    <tr>\n",
       "      <th>202</th>\n",
       "      <td>1928-10-19</td>\n",
       "      <td>21.959999</td>\n",
       "      <td>21.959999</td>\n",
       "      <td>21.959999</td>\n",
       "      <td>21.959999</td>\n",
       "      <td>21.959999</td>\n",
       "      <td>0</td>\n",
       "      <td>21.697143</td>\n",
       "      <td>21.407143</td>\n",
       "      <td>19.987800</td>\n",
       "      <td>...</td>\n",
       "      <td>2.532558</td>\n",
       "      <td>20.498097</td>\n",
       "      <td>21.959999</td>\n",
       "      <td>0</td>\n",
       "      <td>0.204999</td>\n",
       "      <td>1</td>\n",
       "      <td>2.220446e-16</td>\n",
       "      <td>25.000000</td>\n",
       "      <td>0.000000e+00</td>\n",
       "      <td>21.883970</td>\n",
       "    </tr>\n",
       "    <tr>\n",
       "      <th>203</th>\n",
       "      <td>1928-10-22</td>\n",
       "      <td>21.809999</td>\n",
       "      <td>21.809999</td>\n",
       "      <td>21.809999</td>\n",
       "      <td>21.809999</td>\n",
       "      <td>21.809999</td>\n",
       "      <td>0</td>\n",
       "      <td>21.754286</td>\n",
       "      <td>21.435238</td>\n",
       "      <td>20.007700</td>\n",
       "      <td>...</td>\n",
       "      <td>1.761239</td>\n",
       "      <td>18.636301</td>\n",
       "      <td>21.809999</td>\n",
       "      <td>1</td>\n",
       "      <td>-0.001501</td>\n",
       "      <td>0</td>\n",
       "      <td>2.220446e-16</td>\n",
       "      <td>25.000000</td>\n",
       "      <td>0.000000e+00</td>\n",
       "      <td>21.891831</td>\n",
       "    </tr>\n",
       "    <tr>\n",
       "      <th>...</th>\n",
       "      <td>...</td>\n",
       "      <td>...</td>\n",
       "      <td>...</td>\n",
       "      <td>...</td>\n",
       "      <td>...</td>\n",
       "      <td>...</td>\n",
       "      <td>...</td>\n",
       "      <td>...</td>\n",
       "      <td>...</td>\n",
       "      <td>...</td>\n",
       "      <td>...</td>\n",
       "      <td>...</td>\n",
       "      <td>...</td>\n",
       "      <td>...</td>\n",
       "      <td>...</td>\n",
       "      <td>...</td>\n",
       "      <td>...</td>\n",
       "      <td>...</td>\n",
       "      <td>...</td>\n",
       "      <td>...</td>\n",
       "      <td>...</td>\n",
       "    </tr>\n",
       "    <tr>\n",
       "      <th>23830</th>\n",
       "      <td>2022-11-10</td>\n",
       "      <td>3859.889893</td>\n",
       "      <td>3958.330078</td>\n",
       "      <td>3859.889893</td>\n",
       "      <td>3956.370117</td>\n",
       "      <td>3956.370117</td>\n",
       "      <td>5781260000</td>\n",
       "      <td>3798.568604</td>\n",
       "      <td>3775.146217</td>\n",
       "      <td>3902.288516</td>\n",
       "      <td>...</td>\n",
       "      <td>2.112000</td>\n",
       "      <td>56.564626</td>\n",
       "      <td>3956.370117</td>\n",
       "      <td>0</td>\n",
       "      <td>51.295093</td>\n",
       "      <td>1</td>\n",
       "      <td>5.530518e-01</td>\n",
       "      <td>24.904972</td>\n",
       "      <td>2.086972e+12</td>\n",
       "      <td>3907.526765</td>\n",
       "    </tr>\n",
       "    <tr>\n",
       "      <th>23831</th>\n",
       "      <td>2022-11-11</td>\n",
       "      <td>3963.719971</td>\n",
       "      <td>4001.479980</td>\n",
       "      <td>3944.820068</td>\n",
       "      <td>3992.929932</td>\n",
       "      <td>3992.929932</td>\n",
       "      <td>5593310000</td>\n",
       "      <td>3831.888602</td>\n",
       "      <td>3790.528123</td>\n",
       "      <td>3904.618916</td>\n",
       "      <td>...</td>\n",
       "      <td>2.220848</td>\n",
       "      <td>50.341090</td>\n",
       "      <td>3992.929932</td>\n",
       "      <td>0</td>\n",
       "      <td>83.572412</td>\n",
       "      <td>1</td>\n",
       "      <td>-5.805957e+00</td>\n",
       "      <td>24.874980</td>\n",
       "      <td>2.090878e+12</td>\n",
       "      <td>3961.279047</td>\n",
       "    </tr>\n",
       "    <tr>\n",
       "      <th>23832</th>\n",
       "      <td>2022-11-14</td>\n",
       "      <td>3977.969971</td>\n",
       "      <td>4008.969971</td>\n",
       "      <td>3956.399902</td>\n",
       "      <td>3957.250000</td>\n",
       "      <td>3957.250000</td>\n",
       "      <td>4561930000</td>\n",
       "      <td>3865.797189</td>\n",
       "      <td>3808.346215</td>\n",
       "      <td>3906.234116</td>\n",
       "      <td>...</td>\n",
       "      <td>1.717984</td>\n",
       "      <td>48.986211</td>\n",
       "      <td>3992.729932</td>\n",
       "      <td>1</td>\n",
       "      <td>36.691980</td>\n",
       "      <td>0</td>\n",
       "      <td>-6.890942e+00</td>\n",
       "      <td>24.834012</td>\n",
       "      <td>2.086463e+12</td>\n",
       "      <td>3973.273921</td>\n",
       "    </tr>\n",
       "    <tr>\n",
       "      <th>23833</th>\n",
       "      <td>2022-11-15</td>\n",
       "      <td>4006.409912</td>\n",
       "      <td>4028.840088</td>\n",
       "      <td>3953.169922</td>\n",
       "      <td>3991.729980</td>\n",
       "      <td>3991.729980</td>\n",
       "      <td>5015310000</td>\n",
       "      <td>3897.394322</td>\n",
       "      <td>3823.288121</td>\n",
       "      <td>3907.034016</td>\n",
       "      <td>...</td>\n",
       "      <td>1.845317</td>\n",
       "      <td>47.090209</td>\n",
       "      <td>3991.729980</td>\n",
       "      <td>0</td>\n",
       "      <td>55.327954</td>\n",
       "      <td>1</td>\n",
       "      <td>-3.789941e+00</td>\n",
       "      <td>24.820720</td>\n",
       "      <td>2.086559e+12</td>\n",
       "      <td>3972.730495</td>\n",
       "    </tr>\n",
       "    <tr>\n",
       "      <th>23834</th>\n",
       "      <td>2022-11-16</td>\n",
       "      <td>3976.820068</td>\n",
       "      <td>3983.090088</td>\n",
       "      <td>3954.340088</td>\n",
       "      <td>3958.790039</td>\n",
       "      <td>3958.790039</td>\n",
       "      <td>4165320000</td>\n",
       "      <td>3919.107178</td>\n",
       "      <td>3834.660028</td>\n",
       "      <td>3907.620815</td>\n",
       "      <td>...</td>\n",
       "      <td>1.460548</td>\n",
       "      <td>46.464371</td>\n",
       "      <td>3991.529980</td>\n",
       "      <td>1</td>\n",
       "      <td>4.797510</td>\n",
       "      <td>0</td>\n",
       "      <td>3.728052e+00</td>\n",
       "      <td>24.801595</td>\n",
       "      <td>2.083683e+12</td>\n",
       "      <td>3964.189506</td>\n",
       "    </tr>\n",
       "  </tbody>\n",
       "</table>\n",
       "<p>23636 rows × 37 columns</p>\n",
       "</div>"
      ],
      "text/plain": [
       "             Date         Open         High          Low        Close  \\\n",
       "199    1928-10-16    21.719999    21.719999    21.719999    21.719999   \n",
       "200    1928-10-17    21.790001    21.790001    21.790001    21.790001   \n",
       "201    1928-10-18    21.840000    21.840000    21.840000    21.840000   \n",
       "202    1928-10-19    21.959999    21.959999    21.959999    21.959999   \n",
       "203    1928-10-22    21.809999    21.809999    21.809999    21.809999   \n",
       "...           ...          ...          ...          ...          ...   \n",
       "23830  2022-11-10  3859.889893  3958.330078  3859.889893  3956.370117   \n",
       "23831  2022-11-11  3963.719971  4001.479980  3944.820068  3992.929932   \n",
       "23832  2022-11-14  3977.969971  4008.969971  3956.399902  3957.250000   \n",
       "23833  2022-11-15  4006.409912  4028.840088  3953.169922  3991.729980   \n",
       "23834  2022-11-16  3976.820068  3983.090088  3954.340088  3958.790039   \n",
       "\n",
       "         Adj Close      Volume          ma7         ma21        ma100  ...  \\\n",
       "199      21.719999           0    21.400000    21.316667    19.925300  ...   \n",
       "200      21.790001           0    21.481429    21.338571    19.944500  ...   \n",
       "201      21.840000           0    21.585714    21.370000    19.963900  ...   \n",
       "202      21.959999           0    21.697143    21.407143    19.987800  ...   \n",
       "203      21.809999           0    21.754286    21.435238    20.007700  ...   \n",
       "...            ...         ...          ...          ...          ...  ...   \n",
       "23830  3956.370117  5781260000  3798.568604  3775.146217  3902.288516  ...   \n",
       "23831  3992.929932  5593310000  3831.888602  3790.528123  3904.618916  ...   \n",
       "23832  3957.250000  4561930000  3865.797189  3808.346215  3906.234116  ...   \n",
       "23833  3991.729980  5015310000  3897.394322  3823.288121  3907.034016  ...   \n",
       "23834  3958.790039  4165320000  3919.107178  3834.660028  3907.620815  ...   \n",
       "\n",
       "         zscore       chop        decay  decreasing        dpo  increasing  \\\n",
       "199    2.529170  34.345910    21.719999           0   0.090499           1   \n",
       "200    2.514166  31.705968    21.790001           0   0.120501           1   \n",
       "201    2.386458  23.296813    21.840000           0   0.136000           1   \n",
       "202    2.532558  20.498097    21.959999           0   0.204999           1   \n",
       "203    1.761239  18.636301    21.809999           1  -0.001501           0   \n",
       "...         ...        ...          ...         ...        ...         ...   \n",
       "23830  2.112000  56.564626  3956.370117           0  51.295093           1   \n",
       "23831  2.220848  50.341090  3992.929932           0  83.572412           1   \n",
       "23832  1.717984  48.986211  3992.729932           1  36.691980           0   \n",
       "23833  1.845317  47.090209  3991.729980           0  55.327954           1   \n",
       "23834  1.460548  46.464371  3991.529980           1   4.797510           0   \n",
       "\n",
       "             qstick      massi            ad           GF  \n",
       "199    2.220446e-16  25.000000  0.000000e+00    21.714770  \n",
       "200    2.220446e-16  25.000000  0.000000e+00    21.785599  \n",
       "201    2.220446e-16  25.000000  0.000000e+00    21.848461  \n",
       "202    2.220446e-16  25.000000  0.000000e+00    21.883970  \n",
       "203    2.220446e-16  25.000000  0.000000e+00    21.891831  \n",
       "...             ...        ...           ...          ...  \n",
       "23830  5.530518e-01  24.904972  2.086972e+12  3907.526765  \n",
       "23831 -5.805957e+00  24.874980  2.090878e+12  3961.279047  \n",
       "23832 -6.890942e+00  24.834012  2.086463e+12  3973.273921  \n",
       "23833 -3.789941e+00  24.820720  2.086559e+12  3972.730495  \n",
       "23834  3.728052e+00  24.801595  2.083683e+12  3964.189506  \n",
       "\n",
       "[23636 rows x 37 columns]"
      ]
     },
     "execution_count": 9,
     "metadata": {},
     "output_type": "execute_result"
    }
   ],
   "source": [
    "dataset_TI"
   ]
  },
  {
   "attachments": {},
   "cell_type": "markdown",
   "metadata": {},
   "source": [
    "Plotting"
   ]
  },
  {
   "cell_type": "code",
   "execution_count": 33,
   "metadata": {},
   "outputs": [],
   "source": [
    "def plot_technical_indicators(dataset, last_days):\n",
    "    plt.figure(figsize=(16, 10), dpi=100)\n",
    "    shape_0 = dataset.shape[0]\n",
    "    xmacd_ = shape_0-last_days\n",
    "    \n",
    "    dataset = dataset.iloc[-last_days:, :]\n",
    "    x_ = range(3, dataset.shape[0])\n",
    "    x_ =list(dataset.index)\n",
    "    \n",
    "    # Plot first subplot\n",
    "    plt.subplot(2, 1, 1)\n",
    "    plt.plot(dataset['ema30'],label='EMA30', color='g',linestyle='--')\n",
    "    plt.plot(dataset['ema200'],label='EMA200', color='y',linestyle='--')\n",
    "    plt.plot(dataset['Close'],label='Closing Price', color='b')\n",
    "    #plt.plot(dataset['GF'],label='Gausian Filter', color='r',linestyle='--')\n",
    "    #plt.plot(dataset['upper_band'],label='Upper Band', color='c')\n",
    "    #plt.plot(dataset['lower_band'],label='Lower Band', color='c')\n",
    "    #plt.fill_between(x_, dataset['lower_band'], dataset['upper_band'], alpha=0.35)\n",
    "    plt.title('Technical Indicators - last {} days.'.format(last_days))\n",
    "    plt.ylabel('USD')\n",
    "    plt.legend()\n",
    "\n",
    "    # Plot second subplot\n",
    "    plt.subplot(2, 1, 2)\n",
    "    #plt.title('Volatility')\n",
    "    plt.plot(dataset['stdev'],label='Volatility', linestyle='-.')\n",
    "    #plt.hlines(15, xmacd_, shape_0, colors='g', linestyles='--')\n",
    "    #plt.hlines(-15, xmacd_, shape_0, colors='g', linestyles='--')\n",
    "    #plt.plot(dataset['Log_Data'],label='Log', color='b',linestyle='-')\n",
    "\n",
    "    plt.legend()\n",
    "    plt.show()"
   ]
  },
  {
   "cell_type": "code",
   "execution_count": 34,
   "metadata": {},
   "outputs": [
    {
     "data": {
      "image/png": "[encoded data removed]",
      "text/plain": [
       "<Figure size 1600x1000 with 2 Axes>"
      ]
     },
     "metadata": {},
     "output_type": "display_data"
    }
   ],
   "source": [
    "plot_technical_indicators(dataset_TI, 200)"
   ]
  },
  {
   "attachments": {},
   "cell_type": "markdown",
   "metadata": {},
   "source": [
    "Data"
   ]
  },
  {
   "cell_type": "code",
   "execution_count": 10,
   "metadata": {},
   "outputs": [
    {
     "data": {
      "text/plain": [
       "((23636, 34), (23636, 1))"
      ]
     },
     "execution_count": 10,
     "metadata": {},
     "output_type": "execute_result"
    }
   ],
   "source": [
    "X = (dataset_TI.drop(columns=[\"Date\", 'Close', 'Adj Close'])).values\n",
    "y = (dataset_TI[[\"Close\"]]).values\n",
    "\n",
    "X.shape, y.shape"
   ]
  },
  {
   "cell_type": "code",
   "execution_count": 11,
   "metadata": {},
   "outputs": [],
   "source": [
    "from sklearn.preprocessing import MinMaxScaler\n",
    "scaler_x=MinMaxScaler()\n",
    "scaler_y=MinMaxScaler()\n",
    "X_scaled=scaler_x.fit_transform(np.array(X))\n",
    "Y_scaled=scaler_y.fit_transform(np.array(y))"
   ]
  },
  {
   "cell_type": "code",
   "execution_count": 12,
   "metadata": {},
   "outputs": [
    {
     "name": "stdout",
     "output_type": "stream",
     "text": [
      "21272\n"
     ]
    },
    {
     "data": {
      "text/plain": [
       "((21272, 1), (2364, 1))"
      ]
     },
     "execution_count": 12,
     "metadata": {},
     "output_type": "execute_result"
    }
   ],
   "source": [
    "#Splitting the data into train and test data\n",
    "split = int(len(X_scaled) * 0.9)\n",
    "print(split)\n",
    "\n",
    "X_tr, X_tst = X_scaled[:split], X_scaled[split:]\n",
    "X_tr.shape, X_tst.shape\n",
    "\n",
    "y_tr, y_tst = Y_scaled[:split], Y_scaled[split:]\n",
    "y_tr.shape, y_tst.shape"
   ]
  },
  {
   "cell_type": "code",
   "execution_count": 13,
   "metadata": {},
   "outputs": [],
   "source": [
    "# convert an array of values into a dataset matrix\n",
    "def create_dataset(data_x, data_y, time_step=1):\n",
    "\tdata_X, data_Y = [], []\n",
    "\tfor i in range(len(data_x)-time_step+1):\n",
    "\t\ta = data_x[i:(i+time_step), : ]   ###i=0, 0,1,2,3-----99   100 \n",
    "\t\tdata_X.append(a)\n",
    "\t\tdata_Y.append(data_y[i + time_step -1])\n",
    "\treturn np.array(data_X), np.array(data_Y)"
   ]
  },
  {
   "cell_type": "code",
   "execution_count": 14,
   "metadata": {},
   "outputs": [],
   "source": [
    "# reshape into X=t,t+1,t+2,t+3 and Y=t+4\n",
    "time_step = 10 #We will use previous 10 days data to predict future date index value\n",
    "X_train, y_train = create_dataset(X_tr,y_tr, time_step)\n",
    "X_test, y_test = create_dataset(X_tst,y_tst, time_step)"
   ]
  },
  {
   "cell_type": "code",
   "execution_count": 15,
   "metadata": {},
   "outputs": [
    {
     "data": {
      "text/plain": [
       "((21263, 10, 34), (21263, 1))"
      ]
     },
     "execution_count": 15,
     "metadata": {},
     "output_type": "execute_result"
    }
   ],
   "source": [
    "X_train.shape, y_train.shape"
   ]
  },
  {
   "cell_type": "code",
   "execution_count": 16,
   "metadata": {},
   "outputs": [
    {
     "name": "stdout",
     "output_type": "stream",
     "text": [
      "Number of input rows =  21263\n",
      "Number of sequence input which will be fed into lstm model to train it =  10\n",
      "Number of columns =  34\n"
     ]
    }
   ],
   "source": [
    "print('Number of input rows = ',X_train.shape[0])\n",
    "print('Number of sequence input which will be fed into lstm model to train it = ',X_train.shape[1])\n",
    "print('Number of columns = ',X_train.shape[2])"
   ]
  },
  {
   "cell_type": "code",
   "execution_count": 17,
   "metadata": {},
   "outputs": [
    {
     "data": {
      "text/plain": [
       "((2355, 10, 34), (2355, 1))"
      ]
     },
     "execution_count": 17,
     "metadata": {},
     "output_type": "execute_result"
    }
   ],
   "source": [
    "X_test.shape, y_test.shape"
   ]
  },
  {
   "cell_type": "code",
   "execution_count": 18,
   "metadata": {},
   "outputs": [],
   "source": [
    "# reshape input to be [samples, time steps, features] which is required for LSTM\n",
    "X_train =X_train.reshape(X_train.shape[0],X_train.shape[1] , X_train.shape[2])\n",
    "X_test = X_test.reshape(X_test.shape[0],X_test.shape[1] , X_test.shape[2])"
   ]
  },
  {
   "attachments": {},
   "cell_type": "markdown",
   "metadata": {},
   "source": [
    "Model"
   ]
  },
  {
   "cell_type": "code",
   "execution_count": null,
   "metadata": {},
   "outputs": [],
   "source": [
    "## importing necessery library\n",
    "import tensorflow as tf\n",
    "from tensorflow.keras.models import Sequential\n",
    "from tensorflow.keras.layers import GRU, Dense, Dropout\n",
    "from tensorflow.keras.callbacks import ModelCheckpoint, EarlyStopping"
   ]
  },
  {
   "cell_type": "code",
   "execution_count": null,
   "metadata": {},
   "outputs": [],
   "source": [
    "# Import necessary libraries\n",
    "import numpy as np\n",
    "from keras.layers import Input, Dense\n",
    "from keras.models import Model\n",
    "\n",
    "# Preprocess the stock price data\n",
    "# (omitted for brevity)\n",
    "\n",
    "# Define the architecture of the autoencoder\n",
    "input_layer = Input(shape=(n_inputs,))\n",
    "encoded = Dense(n_hidden1, activation='relu')(input_layer)\n",
    "encoded = Dense(n_hidden2, activation='relu')(encoded)\n",
    "decoded = Dense(n_hidden1, activation='relu')(encoded)\n",
    "decoded = Dense(n_inputs, activation='sigmoid')(decoded)\n",
    "\n",
    "# Compile the autoencoder\n",
    "autoencoder = Model(input_layer, decoded)\n",
    "autoencoder.compile(optimizer='adam', loss='binary_crossentropy')\n",
    "\n",
    "# Train the autoencoder\n",
    "autoencoder.fit(X_train, X_train,\n",
    "                epochs=n_epochs,\n",
    "                batch_size=batch_size,\n",
    "                shuffle=True,\n",
    "                validation_data=(X_test, X_test))\n",
    "\n",
    "# Extract the lower-dimensional representation of the data\n",
    "encoder = Model(input_layer, encoded)\n",
    "X_encoded = encoder.predict(X)"
   ]
  },
  {
   "cell_type": "code",
   "execution_count": null,
   "metadata": {},
   "outputs": [],
   "source": [
    "#creating stacked model\n",
    "model=Sequential()\n",
    "model.add(GRU(16,return_sequences=True,input_shape=(X_train.shape[1],X_train.shape[2])))\n",
    "model.add(PReLU())\n",
    "model.add(Dropout(0.3))\n",
    "\n",
    "model.add(GRU(4,return_sequences=True))\n",
    "model.add(PReLU())\n",
    "model.add(Dropout(0.3))\n",
    "\n",
    "model.add(Dense(1))\n",
    "model.add(PReLU())\n",
    "model.compile(loss=\"huber\", metrics=[\"mse\", 'mape'],optimizer='adam')"
   ]
  },
  {
   "cell_type": "code",
   "execution_count": null,
   "metadata": {},
   "outputs": [],
   "source": [
    "early_stopping = EarlyStopping(patience=5, baseline=None)"
   ]
  },
  {
   "cell_type": "code",
   "execution_count": null,
   "metadata": {},
   "outputs": [],
   "source": [
    "#training the model\n",
    "model.fit(X_train,y_train,validation_data=(X_test,y_test),epochs=25,batch_size=64,verbose=1)"
   ]
  },
  {
   "attachments": {},
   "cell_type": "markdown",
   "metadata": {},
   "source": [
    "Testing"
   ]
  },
  {
   "cell_type": "code",
   "execution_count": null,
   "metadata": {},
   "outputs": [],
   "source": [
    "train_predict=model.predict(X_train)\n",
    "test_predict=model.predict(X_test)"
   ]
  },
  {
   "cell_type": "code",
   "execution_count": null,
   "metadata": {},
   "outputs": [],
   "source": [
    "train_predict.shape, test_predict.shape"
   ]
  },
  {
   "cell_type": "code",
   "execution_count": null,
   "metadata": {},
   "outputs": [],
   "source": [
    "X_train.shape"
   ]
  },
  {
   "cell_type": "code",
   "execution_count": null,
   "metadata": {},
   "outputs": [],
   "source": [
    "x_train = []\n",
    "for timestep in X_train :\n",
    "  x_train.append(timestep[time_step-1])"
   ]
  },
  {
   "cell_type": "code",
   "execution_count": null,
   "metadata": {},
   "outputs": [],
   "source": [
    "x_test = []\n",
    "for timestep in X_test :\n",
    "  x_test.append(timestep[time_step-1])"
   ]
  },
  {
   "cell_type": "code",
   "execution_count": null,
   "metadata": {},
   "outputs": [],
   "source": [
    "x_train = scaler_x.inverse_transform(x_train)\n",
    "y_train = scaler_y.inverse_transform(y_train)"
   ]
  },
  {
   "cell_type": "code",
   "execution_count": null,
   "metadata": {},
   "outputs": [],
   "source": [
    "train_predict=scaler_y.inverse_transform(train_predict)\n",
    "\n",
    "x_test = scaler_x.inverse_transform(x_test)\n",
    "y_test = y_test.reshape(-1,1)\n",
    "y_test = scaler_y.inverse_transform(y_test)\n",
    "test_predict=scaler_y.inverse_transform(test_predict)\n"
   ]
  },
  {
   "cell_type": "code",
   "execution_count": null,
   "metadata": {},
   "outputs": [],
   "source": [
    "#concatinating dependent and independent features in training data\n",
    "X_train = np.concatenate((x_train,y_train,train_predict), axis = 1)\n",
    "#concatinating dependent and independent features in test data\n",
    "X_test = np.concatenate((x_test,y_test,test_predict), axis = 1)\n",
    "#Creating pandas dataframe for training data\n",
    "X_train = pd.DataFrame(X_train, columns = ['Open','High','Low','Close','Volume','returns','pred_return'])\n",
    "#Creating pandas dataframe for test data\n",
    "X_test = pd.DataFrame(X_test, columns = ['Open','High','Low','Close','Volume','returns','pred_return'])\n",
    "X_train.head()\n"
   ]
  },
  {
   "cell_type": "code",
   "execution_count": null,
   "metadata": {},
   "outputs": [],
   "source": [
    "X_train['pred_output'] = X_train['Open'] * (1+X_train['pred_return'])\n",
    "#this future stock price column will be used to test our prediction\n",
    "X_train['future_output'] = X_train['Open'].shift(-1)\n",
    "X_train"
   ]
  },
  {
   "cell_type": "code",
   "execution_count": null,
   "metadata": {},
   "outputs": [],
   "source": [
    "X_test['pred_output'] = X_test['Open'] * (1+X_test['pred_return'])\n",
    "X_test['future_output'] = X_test['Open'].shift(-1)\n",
    "X_test"
   ]
  },
  {
   "cell_type": "code",
   "execution_count": null,
   "metadata": {},
   "outputs": [],
   "source": [
    "#let' analyse the loss\n",
    "# function to calculate absolute percentage error\n",
    "def cal_ape(y_true, y_pred):\n",
    "    ape = abs((y_true-y_pred)/y_true) *100\n",
    "    return ape\n",
    "X_train['abs_perc_error'] = cal_ape(X_train['pred_output'], X_train['future_output'])\n",
    "X_test['abs_perc_error'] = cal_ape(X_test['pred_output'], X_test['future_output'])\n",
    "X_test"
   ]
  },
  {
   "cell_type": "code",
   "execution_count": null,
   "metadata": {},
   "outputs": [],
   "source": [
    "fig, ax = plt.subplots(figsize = (18,6))\n",
    "plt.plot(X_train['future_output'],label='Next day Opening price of S&P 500 ind value ')\n",
    "plt.plot(X_train['pred_output'],label = 'Output predicted by lstm model')\n",
    "plt.legend()\n",
    "plt.show()"
   ]
  },
  {
   "cell_type": "code",
   "execution_count": null,
   "metadata": {},
   "outputs": [],
   "source": [
    "fig, ax = plt.subplots(figsize = (18,6))\n",
    "plt.plot(X_test['future_output'],label='Next daya pening price of S&P 500 ind value')\n",
    "plt.plot(X_test['pred_output'],label = 'Output predicted by lstm model')\n",
    "plt.legend()\n",
    "plt.show()"
   ]
  },
  {
   "cell_type": "code",
   "execution_count": null,
   "metadata": {},
   "outputs": [],
   "source": [
    "def plot_dist_error(data):\n",
    "    fig, (ax1,ax2) = plt.subplots(1,2, figsize=(16,5))\n",
    "\n",
    "    ax1.plot(data.dropna())\n",
    "    ax2.hist(data.dropna(), density = True)\n",
    "    \n",
    "    mape = data.mean()\n",
    "    print(f'Mean absolute percentage error of the model is : {mape:.3f} %')\n",
    "plot_dist_error(X_train['abs_perc_error'])"
   ]
  },
  {
   "cell_type": "code",
   "execution_count": null,
   "metadata": {},
   "outputs": [],
   "source": [
    "plot_dist_error(X_test['abs_perc_error'])"
   ]
  }
 ],
 "metadata": {
  "kernelspec": {
   "display_name": "Python 3.11.0 64-bit",
   "language": "python",
   "name": "python3"
  },
  "language_info": {
   "codemirror_mode": {
    "name": "ipython",
    "version": 3
   },
   "file_extension": ".py",
   "mimetype": "text/x-python",
   "name": "python",
   "nbconvert_exporter": "python",
   "pygments_lexer": "ipython3",
   "version": "3.11.0"
  },
  "orig_nbformat": 4,
  "vscode": {
   "interpreter": {
    "hash": "aee8b7b246df8f9039afb4144a1f6fd8d2ca17a180786b69acc140d282b71a49"
   }
  }
 },
 "nbformat": 4,
 "nbformat_minor": 2
}
